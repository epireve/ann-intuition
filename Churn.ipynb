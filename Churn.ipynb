{
 "cells": [
  {
   "cell_type": "markdown",
   "metadata": {},
   "source": [
    "We will conduct few things; the x"
   ]
  },
  {
   "cell_type": "markdown",
   "metadata": {},
   "source": [
    "# ANN"
   ]
  },
  {
   "cell_type": "code",
   "execution_count": 41,
   "metadata": {
    "scrolled": true
   },
   "outputs": [
    {
     "name": "stderr",
     "output_type": "stream",
     "text": [
      "/anaconda3/lib/python3.6/site-packages/sklearn/preprocessing/_encoders.py:363: FutureWarning: The handling of integer data will change in version 0.22. Currently, the categories are determined based on the range [0, max(values)], while in the future they will be determined based on the unique values.\n",
      "If you want the future behaviour and silence this warning, you can specify \"categories='auto'\".\n",
      "In case you used a LabelEncoder before this OneHotEncoder to convert the categories to integers, then you can now use the OneHotEncoder directly.\n",
      "  warnings.warn(msg, FutureWarning)\n",
      "/anaconda3/lib/python3.6/site-packages/sklearn/preprocessing/_encoders.py:385: DeprecationWarning: The 'categorical_features' keyword is deprecated in version 0.20 and will be removed in 0.22. You can use the ColumnTransformer instead.\n",
      "  \"use the ColumnTransformer instead.\", DeprecationWarning)\n"
     ]
    }
   ],
   "source": [
    "import numpy as np\n",
    "import matplotlib.pyplot as plt\n",
    "import pandas as pd\n",
    "\n",
    "dataset = pd.read_csv('Churn_Modelling.csv')\n",
    "X = dataset.iloc[:, 3:13].values\n",
    "Y = dataset.iloc[:, 13].values\n",
    "\n",
    "#Encoding categorical data\n",
    "from sklearn.preprocessing import LabelEncoder, OneHotEncoder\n",
    "\n",
    "labelencoder_X_1 = LabelEncoder()\n",
    "X[:, 1] = labelencoder_X_1.fit_transform(X[:, 1])\n",
    "\n",
    "labelencoder_X_2 = LabelEncoder()\n",
    "X[:, 2] = labelencoder_X_2.fit_transform(X[:, 2])\n",
    "\n",
    "onehotencoder = OneHotEncoder(categorical_features = [1])\n",
    "X = onehotencoder.fit_transform(X).toarray()\n",
    "X = X[:, 1:]"
   ]
  },
  {
   "cell_type": "code",
   "execution_count": 71,
   "metadata": {},
   "outputs": [
    {
     "data": {
      "text/plain": [
       "array([[0.0000000e+00, 0.0000000e+00, 6.1900000e+02, ..., 1.0000000e+00,\n",
       "        1.0000000e+00, 1.0134888e+05],\n",
       "       [0.0000000e+00, 1.0000000e+00, 6.0800000e+02, ..., 0.0000000e+00,\n",
       "        1.0000000e+00, 1.1254258e+05],\n",
       "       [0.0000000e+00, 0.0000000e+00, 5.0200000e+02, ..., 1.0000000e+00,\n",
       "        0.0000000e+00, 1.1393157e+05],\n",
       "       ...,\n",
       "       [0.0000000e+00, 0.0000000e+00, 7.0900000e+02, ..., 0.0000000e+00,\n",
       "        1.0000000e+00, 4.2085580e+04],\n",
       "       [1.0000000e+00, 0.0000000e+00, 7.7200000e+02, ..., 1.0000000e+00,\n",
       "        0.0000000e+00, 9.2888520e+04],\n",
       "       [0.0000000e+00, 0.0000000e+00, 7.9200000e+02, ..., 1.0000000e+00,\n",
       "        0.0000000e+00, 3.8190780e+04]])"
      ]
     },
     "execution_count": 71,
     "metadata": {},
     "output_type": "execute_result"
    }
   ],
   "source": [
    "X"
   ]
  },
  {
   "cell_type": "code",
   "execution_count": 42,
   "metadata": {},
   "outputs": [],
   "source": [
    "#Dataset splitting\n",
    "from sklearn.model_selection import train_test_split\n",
    "X_train, X_test, y_train, y_test = train_test_split(X, Y, test_size = .2, random_state =0)"
   ]
  },
  {
   "cell_type": "code",
   "execution_count": 45,
   "metadata": {},
   "outputs": [],
   "source": [
    "#Feature scaling\n",
    "from sklearn.preprocessing import StandardScaler\n",
    "sc = StandardScaler()\n",
    "X_train = sc.fit_transform(X_train)\n",
    "X_test = sc.transform(X_test)"
   ]
  },
  {
   "cell_type": "code",
   "execution_count": 65,
   "metadata": {},
   "outputs": [],
   "source": [
    "#ANN building\n",
    "import keras\n",
    "from keras.models import Sequential\n",
    "from keras.layers import Dense\n",
    "\n",
    "#Initialising the ANN\n",
    "classifier = Sequential()\n",
    "\n",
    "#Adding input layer\n",
    "#classifier.add(Dense(output_dim = 6, init = 'uniform', activation = 'relu', input_dim = 11))\n",
    "classifier.add(Dense(6, kernel_initializer=\"uniform\", activation = 'relu', input_dim = 11))\n",
    "\n",
    "#Adding hidden layer|\n",
    "classifier.add(Dense(6, kernel_initializer=\"uniform\", activation = 'relu'))\n",
    "\n",
    "#Adding output layer\n",
    "classifier.add(Dense(1, kernel_initializer=\"uniform\", activation = 'sigmoid'))\n",
    "\n",
    "classifier.compile(optimizer='adam', loss='binary_crossentropy', metrics=['accuracy'])"
   ]
  },
  {
   "cell_type": "code",
   "execution_count": 69,
   "metadata": {},
   "outputs": [
    {
     "name": "stdout",
     "output_type": "stream",
     "text": [
      "Epoch 1/100\n",
      "8000/8000 [==============================] - 1s 172us/step - loss: 0.4341 - acc: 0.7960\n",
      "Epoch 2/100\n",
      "8000/8000 [==============================] - 1s 140us/step - loss: 0.4268 - acc: 0.7960\n",
      "Epoch 3/100\n",
      "8000/8000 [==============================] - 1s 143us/step - loss: 0.4219 - acc: 0.8045\n",
      "Epoch 4/100\n",
      "8000/8000 [==============================] - 1s 152us/step - loss: 0.4183 - acc: 0.8231\n",
      "Epoch 5/100\n",
      "8000/8000 [==============================] - 1s 135us/step - loss: 0.4158 - acc: 0.8262\n",
      "Epoch 6/100\n",
      "8000/8000 [==============================] - 1s 137us/step - loss: 0.4142 - acc: 0.8309\n",
      "Epoch 7/100\n",
      "8000/8000 [==============================] - 1s 152us/step - loss: 0.4126 - acc: 0.8310\n",
      "Epoch 8/100\n",
      "8000/8000 [==============================] - 2s 218us/step - loss: 0.4113 - acc: 0.8329\n",
      "Epoch 9/100\n",
      "8000/8000 [==============================] - 2s 193us/step - loss: 0.4097 - acc: 0.8326\n",
      "Epoch 10/100\n",
      "8000/8000 [==============================] - 2s 215us/step - loss: 0.4093 - acc: 0.8350\n",
      "Epoch 11/100\n",
      "8000/8000 [==============================] - 2s 220us/step - loss: 0.4085 - acc: 0.8339\n",
      "Epoch 12/100\n",
      "8000/8000 [==============================] - 2s 216us/step - loss: 0.4079 - acc: 0.8340\n",
      "Epoch 13/100\n",
      "8000/8000 [==============================] - 2s 230us/step - loss: 0.4071 - acc: 0.8344 0s - loss: 0.39\n",
      "Epoch 14/100\n",
      "8000/8000 [==============================] - 2s 224us/step - loss: 0.4064 - acc: 0.8331\n",
      "Epoch 15/100\n",
      "8000/8000 [==============================] - 2s 230us/step - loss: 0.4061 - acc: 0.8340 0s - loss: 0.4067 \n",
      "Epoch 16/100\n",
      "8000/8000 [==============================] - 2s 228us/step - loss: 0.4053 - acc: 0.8359\n",
      "Epoch 17/100\n",
      "8000/8000 [==============================] - 2s 220us/step - loss: 0.4050 - acc: 0.8345 1\n",
      "Epoch 18/100\n",
      "8000/8000 [==============================] - 2s 226us/step - loss: 0.4049 - acc: 0.8342\n",
      "Epoch 19/100\n",
      "8000/8000 [==============================] - 2s 211us/step - loss: 0.4044 - acc: 0.8341\n",
      "Epoch 20/100\n",
      "8000/8000 [==============================] - 1s 163us/step - loss: 0.4043 - acc: 0.8339\n",
      "Epoch 21/100\n",
      "8000/8000 [==============================] - 1s 139us/step - loss: 0.4039 - acc: 0.8354\n",
      "Epoch 22/100\n",
      "8000/8000 [==============================] - 1s 169us/step - loss: 0.4036 - acc: 0.8342 0s - loss: 0.396\n",
      "Epoch 23/100\n",
      "8000/8000 [==============================] - 2s 224us/step - loss: 0.4033 - acc: 0.8340 1s - \n",
      "Epoch 24/100\n",
      "8000/8000 [==============================] - 2s 214us/step - loss: 0.4031 - acc: 0.8356 1s -\n",
      "Epoch 25/100\n",
      "8000/8000 [==============================] - 2s 234us/step - loss: 0.4029 - acc: 0.8362\n",
      "Epoch 26/100\n",
      "8000/8000 [==============================] - 2s 222us/step - loss: 0.4030 - acc: 0.8330\n",
      "Epoch 27/100\n",
      "8000/8000 [==============================] - 2s 219us/step - loss: 0.4025 - acc: 0.8346\n",
      "Epoch 28/100\n",
      "8000/8000 [==============================] - 2s 205us/step - loss: 0.4024 - acc: 0.8374\n",
      "Epoch 29/100\n",
      "8000/8000 [==============================] - 2s 212us/step - loss: 0.4026 - acc: 0.8356\n",
      "Epoch 30/100\n",
      "8000/8000 [==============================] - 1s 135us/step - loss: 0.4022 - acc: 0.8351\n",
      "Epoch 31/100\n",
      "8000/8000 [==============================] - 1s 129us/step - loss: 0.4019 - acc: 0.8344\n",
      "Epoch 32/100\n",
      "8000/8000 [==============================] - 1s 145us/step - loss: 0.4020 - acc: 0.8344\n",
      "Epoch 33/100\n",
      "8000/8000 [==============================] - 1s 168us/step - loss: 0.4017 - acc: 0.8337\n",
      "Epoch 34/100\n",
      "8000/8000 [==============================] - 1s 180us/step - loss: 0.4019 - acc: 0.8360\n",
      "Epoch 35/100\n",
      "8000/8000 [==============================] - 2s 217us/step - loss: 0.4014 - acc: 0.8346\n",
      "Epoch 36/100\n",
      "8000/8000 [==============================] - 2s 188us/step - loss: 0.4011 - acc: 0.8347\n",
      "Epoch 37/100\n",
      "8000/8000 [==============================] - 1s 177us/step - loss: 0.4018 - acc: 0.8349\n",
      "Epoch 38/100\n",
      "8000/8000 [==============================] - 1s 130us/step - loss: 0.4018 - acc: 0.8352\n",
      "Epoch 39/100\n",
      "8000/8000 [==============================] - 1s 162us/step - loss: 0.4019 - acc: 0.8342\n",
      "Epoch 40/100\n",
      "8000/8000 [==============================] - 2s 235us/step - loss: 0.4016 - acc: 0.8339\n",
      "Epoch 41/100\n",
      "8000/8000 [==============================] - 2s 243us/step - loss: 0.4012 - acc: 0.8356\n",
      "Epoch 42/100\n",
      "8000/8000 [==============================] - 2s 235us/step - loss: 0.4015 - acc: 0.8349\n",
      "Epoch 43/100\n",
      "8000/8000 [==============================] - 2s 188us/step - loss: 0.4015 - acc: 0.8355\n",
      "Epoch 44/100\n",
      "8000/8000 [==============================] - 1s 163us/step - loss: 0.4008 - acc: 0.8344 1s - loss: 0\n",
      "Epoch 45/100\n",
      "8000/8000 [==============================] - 1s 125us/step - loss: 0.4012 - acc: 0.8341\n",
      "Epoch 46/100\n",
      "8000/8000 [==============================] - 2s 198us/step - loss: 0.4012 - acc: 0.8351\n",
      "Epoch 47/100\n",
      "8000/8000 [==============================] - 1s 148us/step - loss: 0.4012 - acc: 0.8352\n",
      "Epoch 48/100\n",
      "8000/8000 [==============================] - 1s 137us/step - loss: 0.4012 - acc: 0.8347\n",
      "Epoch 49/100\n",
      "8000/8000 [==============================] - 1s 169us/step - loss: 0.4008 - acc: 0.8351\n",
      "Epoch 50/100\n",
      "8000/8000 [==============================] - 1s 155us/step - loss: 0.4009 - acc: 0.8339\n",
      "Epoch 51/100\n",
      "8000/8000 [==============================] - 1s 132us/step - loss: 0.4010 - acc: 0.8346 0s - loss: 0.4025 - a\n",
      "Epoch 52/100\n",
      "8000/8000 [==============================] - 1s 126us/step - loss: 0.4003 - acc: 0.8357\n",
      "Epoch 53/100\n",
      "8000/8000 [==============================] - 1s 136us/step - loss: 0.4008 - acc: 0.8345\n",
      "Epoch 54/100\n",
      "8000/8000 [==============================] - 2s 206us/step - loss: 0.4002 - acc: 0.8347\n",
      "Epoch 55/100\n",
      "8000/8000 [==============================] - 1s 136us/step - loss: 0.4005 - acc: 0.8352\n",
      "Epoch 56/100\n",
      "8000/8000 [==============================] - 1s 133us/step - loss: 0.4007 - acc: 0.8355\n",
      "Epoch 57/100\n",
      "8000/8000 [==============================] - 1s 132us/step - loss: 0.4005 - acc: 0.8374\n",
      "Epoch 58/100\n",
      "8000/8000 [==============================] - 1s 137us/step - loss: 0.4005 - acc: 0.8352\n",
      "Epoch 59/100\n",
      "8000/8000 [==============================] - 1s 143us/step - loss: 0.4006 - acc: 0.8349\n",
      "Epoch 60/100\n",
      "8000/8000 [==============================] - 1s 186us/step - loss: 0.3998 - acc: 0.8351\n",
      "Epoch 61/100\n",
      "8000/8000 [==============================] - 1s 163us/step - loss: 0.4003 - acc: 0.8371\n",
      "Epoch 62/100\n",
      "8000/8000 [==============================] - 2s 212us/step - loss: 0.4006 - acc: 0.8362\n",
      "Epoch 63/100\n",
      "8000/8000 [==============================] - 2s 234us/step - loss: 0.4001 - acc: 0.8351\n",
      "Epoch 64/100\n",
      "8000/8000 [==============================] - 2s 226us/step - loss: 0.4001 - acc: 0.8347 1s \n",
      "Epoch 65/100\n",
      "8000/8000 [==============================] - 2s 235us/step - loss: 0.4003 - acc: 0.8336\n",
      "Epoch 66/100\n",
      "8000/8000 [==============================] - 2s 223us/step - loss: 0.3999 - acc: 0.8347\n",
      "Epoch 67/100\n",
      "8000/8000 [==============================] - 2s 221us/step - loss: 0.4003 - acc: 0.8355\n",
      "Epoch 68/100\n",
      "8000/8000 [==============================] - 2s 222us/step - loss: 0.4005 - acc: 0.8356\n",
      "Epoch 69/100\n",
      "8000/8000 [==============================] - 2s 233us/step - loss: 0.4001 - acc: 0.8352\n",
      "Epoch 70/100\n",
      "8000/8000 [==============================] - 2s 228us/step - loss: 0.4003 - acc: 0.8356 0s - loss: 0.4036 - a\n",
      "Epoch 71/100\n",
      "8000/8000 [==============================] - 2s 234us/step - loss: 0.4000 - acc: 0.8357\n",
      "Epoch 72/100\n",
      "8000/8000 [==============================] - 2s 209us/step - loss: 0.4004 - acc: 0.8352\n",
      "Epoch 73/100\n",
      "8000/8000 [==============================] - 2s 190us/step - loss: 0.4001 - acc: 0.8365\n",
      "Epoch 74/100\n",
      "8000/8000 [==============================] - 2s 198us/step - loss: 0.4000 - acc: 0.8366\n",
      "Epoch 75/100\n",
      "8000/8000 [==============================] - 2s 211us/step - loss: 0.3997 - acc: 0.8366\n",
      "Epoch 76/100\n",
      "8000/8000 [==============================] - 2s 191us/step - loss: 0.4002 - acc: 0.8361\n",
      "Epoch 77/100\n",
      "8000/8000 [==============================] - 1s 151us/step - loss: 0.4002 - acc: 0.8369 0s - loss: 0.3\n",
      "Epoch 78/100\n",
      "8000/8000 [==============================] - 2s 222us/step - loss: 0.4002 - acc: 0.8345\n",
      "Epoch 79/100\n",
      "8000/8000 [==============================] - 2s 234us/step - loss: 0.4002 - acc: 0.8350\n",
      "Epoch 80/100\n"
     ]
    },
    {
     "name": "stdout",
     "output_type": "stream",
     "text": [
      "8000/8000 [==============================] - 2s 220us/step - loss: 0.3999 - acc: 0.8355\n",
      "Epoch 81/100\n",
      "8000/8000 [==============================] - 2s 220us/step - loss: 0.3998 - acc: 0.8356\n",
      "Epoch 82/100\n",
      "8000/8000 [==============================] - 2s 226us/step - loss: 0.3996 - acc: 0.8355\n",
      "Epoch 83/100\n",
      "8000/8000 [==============================] - 2s 236us/step - loss: 0.3993 - acc: 0.8354\n",
      "Epoch 84/100\n",
      "8000/8000 [==============================] - 2s 243us/step - loss: 0.3990 - acc: 0.8365\n",
      "Epoch 85/100\n",
      "8000/8000 [==============================] - 2s 237us/step - loss: 0.4000 - acc: 0.8344 0s - loss: 0.\n",
      "Epoch 86/100\n",
      "8000/8000 [==============================] - 2s 222us/step - loss: 0.3989 - acc: 0.8341\n",
      "Epoch 87/100\n",
      "8000/8000 [==============================] - 2s 222us/step - loss: 0.3995 - acc: 0.8355\n",
      "Epoch 88/100\n",
      "8000/8000 [==============================] - 2s 233us/step - loss: 0.3998 - acc: 0.8349\n",
      "Epoch 89/100\n",
      "8000/8000 [==============================] - 2s 214us/step - loss: 0.3993 - acc: 0.8359 1s - los\n",
      "Epoch 90/100\n",
      "8000/8000 [==============================] - 2s 230us/step - loss: 0.3994 - acc: 0.8362\n",
      "Epoch 91/100\n",
      "8000/8000 [==============================] - 2s 217us/step - loss: 0.3996 - acc: 0.8345 0s - loss: 0.3\n",
      "Epoch 92/100\n",
      "8000/8000 [==============================] - 2s 216us/step - loss: 0.3996 - acc: 0.8352\n",
      "Epoch 93/100\n",
      "8000/8000 [==============================] - 2s 243us/step - loss: 0.3998 - acc: 0.8355\n",
      "Epoch 94/100\n",
      "8000/8000 [==============================] - 2s 216us/step - loss: 0.3998 - acc: 0.8356\n",
      "Epoch 95/100\n",
      "8000/8000 [==============================] - 2s 216us/step - loss: 0.3990 - acc: 0.8335\n",
      "Epoch 96/100\n",
      "8000/8000 [==============================] - 2s 210us/step - loss: 0.3993 - acc: 0.8345\n",
      "Epoch 97/100\n",
      "8000/8000 [==============================] - 2s 235us/step - loss: 0.3997 - acc: 0.8359\n",
      "Epoch 98/100\n",
      "8000/8000 [==============================] - 2s 226us/step - loss: 0.3995 - acc: 0.8346\n",
      "Epoch 99/100\n",
      "8000/8000 [==============================] - 2s 209us/step - loss: 0.3992 - acc: 0.8350 1s - los\n",
      "Epoch 100/100\n",
      "8000/8000 [==============================] - 2s 235us/step - loss: 0.3995 - acc: 0.8330\n"
     ]
    },
    {
     "data": {
      "text/plain": [
       "<keras.callbacks.History at 0x1a24f77400>"
      ]
     },
     "execution_count": 69,
     "metadata": {},
     "output_type": "execute_result"
    }
   ],
   "source": [
    "classifier.fit(X_train, y_train, batch_size = 10, epochs=100)"
   ]
  },
  {
   "cell_type": "code",
   "execution_count": 73,
   "metadata": {},
   "outputs": [],
   "source": [
    "#Making prediction\n",
    "y_pred = classifier.predict(X_test)\n",
    "y_pred = (y_pred > 0.5)\n",
    "\n",
    "#Making the Confusion Matrix\n",
    "from sklearn.metrics import confusion_matrix\n",
    "cm = confusion_matrix(y_test, y_pred)"
   ]
  },
  {
   "cell_type": "code",
   "execution_count": null,
   "metadata": {},
   "outputs": [],
   "source": []
  },
  {
   "cell_type": "code",
   "execution_count": null,
   "metadata": {},
   "outputs": [],
   "source": []
  }
 ],
 "metadata": {
  "kernelspec": {
   "display_name": "Python 3",
   "language": "python",
   "name": "python3"
  },
  "language_info": {
   "codemirror_mode": {
    "name": "ipython",
    "version": 3
   },
   "file_extension": ".py",
   "mimetype": "text/x-python",
   "name": "python",
   "nbconvert_exporter": "python",
   "pygments_lexer": "ipython3",
   "version": "3.6.6"
  },
  "varInspector": {
   "cols": {
    "lenName": 16,
    "lenType": 16,
    "lenVar": 40
   },
   "kernels_config": {
    "python": {
     "delete_cmd_postfix": "",
     "delete_cmd_prefix": "del ",
     "library": "var_list.py",
     "varRefreshCmd": "print(var_dic_list())"
    },
    "r": {
     "delete_cmd_postfix": ") ",
     "delete_cmd_prefix": "rm(",
     "library": "var_list.r",
     "varRefreshCmd": "cat(var_dic_list()) "
    }
   },
   "oldHeight": 580,
   "position": {
    "height": "40px",
    "left": "151px",
    "right": "20px",
    "top": "159px",
    "width": "462px"
   },
   "types_to_exclude": [
    "module",
    "function",
    "builtin_function_or_method",
    "instance",
    "_Feature"
   ],
   "varInspector_section_display": "none",
   "window_display": true
  }
 },
 "nbformat": 4,
 "nbformat_minor": 2
}
